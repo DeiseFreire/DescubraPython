{
  "nbformat": 4,
  "nbformat_minor": 0,
  "metadata": {
    "colab": {
      "provenance": [],
      "authorship_tag": "ABX9TyMMDMcvRwEpzpJlcHP87FJl",
      "include_colab_link": true
    },
    "kernelspec": {
      "name": "python3",
      "display_name": "Python 3"
    },
    "language_info": {
      "name": "python"
    }
  },
  "cells": [
    {
      "cell_type": "markdown",
      "metadata": {
        "id": "view-in-github",
        "colab_type": "text"
      },
      "source": [
        "<a href=\"https://colab.research.google.com/github/DeiseFreire/DescubraPython/blob/main/O_%C3%A2ngulo_do_mal_parte_2.ipynb\" target=\"_parent\"><img src=\"https://colab.research.google.com/assets/colab-badge.svg\" alt=\"Open In Colab\"/></a>"
      ]
    },
    {
      "cell_type": "markdown",
      "source": [
        "`O ângulo do mal`\n",
        "\n",
        "`\"Ei, você aí, que gosta de matemática! Sabia que dá pra calcular o seno, cosseno, tangente, secante e cossecante de qualquer ângulo? É só usar o Python!`\n",
        "\n",
        "`Mas como é que faz? É fácil! Primeiro, você precisa pedir pro usuário digitar o ângulo em graus. Depois, é só usar as funções da biblioteca math.`\n",
        "\n",
        "`Por exemplo, pra calcular o seno de um ângulo de 30 graus, você faria assim:`\n",
        "\n",
        "\n",
        "\n",
        "\n"
      ],
      "metadata": {
        "id": "YX06xrjssxUJ"
      }
    },
    {
      "cell_type": "code",
      "source": [
        "import math\n",
        "\n",
        "def main():\n",
        "  # Entrada do ângulo\n",
        "  angle = float(input(\"Digite o ângulo em graus: \"))\n",
        "  #Cálculo das funções trigonométricas\n",
        "  sin = math.sin(angle * math.pi / 180)\n",
        "  cos = math.cos(angle * math.pi / 180)\n",
        "  tan = math.tan(angle * math.pi / 180)\n",
        "  sec = 1 / cos\n",
        "  csc = 1 / sin\n",
        "  # Impressão dos resultados\n",
        "  print(\"Seno:\", sin)\n",
        "  print(\"Cosseno:\", cos)\n",
        "  print(\"Tangente:\", tan)\n",
        "  print(\"Secante:\", sec)\n",
        "  print(\"Cossecante:\", csc)\n",
        "if __name__==\"__main__\":\n",
        "  main()"
      ],
      "metadata": {
        "colab": {
          "base_uri": "https://localhost:8080/"
        },
        "id": "sGP8Bq4lt91z",
        "outputId": "56fbe20c-37d6-4aac-f791-76e2537339e6"
      },
      "execution_count": 57,
      "outputs": [
        {
          "output_type": "stream",
          "name": "stdout",
          "text": [
            "Digite o ângulo em graus: 30\n",
            "Seno: 0.49999999999999994\n",
            "Cosseno: 0.8660254037844387\n",
            "Tangente: 0.5773502691896257\n",
            "Secante: 1.1547005383792515\n",
            "Cossecante: 2.0000000000000004\n"
          ]
        }
      ]
    }
  ]
}